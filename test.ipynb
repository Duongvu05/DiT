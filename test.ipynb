{
 "cells": [
  {
   "cell_type": "code",
   "execution_count": null,
   "id": "66ce394c",
   "metadata": {},
   "outputs": [],
   "source": [
    "import pickle as pkl \n",
    "\n",
    "with open(\"/home/duongvn/DiT-SGCR/dataset/MulDiGraph/account_tags.pkl\", 'rb') as f:\n",
    "    account_tags = pkl.load(f)\n",
    "\n",
    "print(account_tags)"
   ]
  }
 ],
 "metadata": {
  "language_info": {
   "name": "python"
  }
 },
 "nbformat": 4,
 "nbformat_minor": 5
}
